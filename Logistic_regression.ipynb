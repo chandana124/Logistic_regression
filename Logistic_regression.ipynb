{
 "cells": [
  {
   "cell_type": "code",
   "execution_count": 52,
   "metadata": {},
   "outputs": [],
   "source": [
    "from IPython.display import Image\n",
    "from sklearn.externals.six import StringIO\n",
    "from sklearn.tree import export_graphviz\n",
    "import pydotplus\n",
    "import imblearn\n",
    "import lightgbm\n",
    "import hyperopt"
   ]
  },
  {
   "cell_type": "code",
   "execution_count": 30,
   "metadata": {},
   "outputs": [],
   "source": [
    "import pandas as pd\n",
    "import numpy as np\n",
    "import matplotlib\n",
    "import matplotlib.pyplot as plt\n",
    "import seaborn as sns\n",
    "import statsmodels.api as sm\n",
    "%matplotlib inline\n",
    "import plusmodules as pm\n",
    "import warnings\n",
    "warnings.filterwarnings('ignore')"
   ]
  },
  {
   "cell_type": "code",
   "execution_count": 31,
   "metadata": {},
   "outputs": [
    {
     "data": {
      "text/html": [
       "<div>\n",
       "<style scoped>\n",
       "    .dataframe tbody tr th:only-of-type {\n",
       "        vertical-align: middle;\n",
       "    }\n",
       "\n",
       "    .dataframe tbody tr th {\n",
       "        vertical-align: top;\n",
       "    }\n",
       "\n",
       "    .dataframe thead th {\n",
       "        text-align: right;\n",
       "    }\n",
       "</style>\n",
       "<table border=\"1\" class=\"dataframe\">\n",
       "  <thead>\n",
       "    <tr style=\"text-align: right;\">\n",
       "      <th></th>\n",
       "      <th>gender</th>\n",
       "      <th>senior</th>\n",
       "      <th>partner</th>\n",
       "      <th>dependents</th>\n",
       "      <th>tenure</th>\n",
       "      <th>phone_service</th>\n",
       "      <th>multiple_lines</th>\n",
       "      <th>online_security</th>\n",
       "      <th>online_backup</th>\n",
       "      <th>device_protection</th>\n",
       "      <th>...</th>\n",
       "      <th>total_charges</th>\n",
       "      <th>churn</th>\n",
       "      <th>avg_monthly_charges</th>\n",
       "      <th>internet_service-fiber_optic</th>\n",
       "      <th>internet_service-no</th>\n",
       "      <th>contract-one_year</th>\n",
       "      <th>contract-two_year</th>\n",
       "      <th>payment_method-credit_card_auto</th>\n",
       "      <th>payment_method-electronic_check</th>\n",
       "      <th>payment_method-mailed_check</th>\n",
       "    </tr>\n",
       "  </thead>\n",
       "  <tbody>\n",
       "    <tr>\n",
       "      <th>0</th>\n",
       "      <td>1</td>\n",
       "      <td>0</td>\n",
       "      <td>1</td>\n",
       "      <td>0</td>\n",
       "      <td>1</td>\n",
       "      <td>0</td>\n",
       "      <td>0</td>\n",
       "      <td>0</td>\n",
       "      <td>1</td>\n",
       "      <td>0</td>\n",
       "      <td>...</td>\n",
       "      <td>29.85</td>\n",
       "      <td>0</td>\n",
       "      <td>29.850000</td>\n",
       "      <td>0</td>\n",
       "      <td>0</td>\n",
       "      <td>0</td>\n",
       "      <td>0</td>\n",
       "      <td>0</td>\n",
       "      <td>1</td>\n",
       "      <td>0</td>\n",
       "    </tr>\n",
       "    <tr>\n",
       "      <th>1</th>\n",
       "      <td>0</td>\n",
       "      <td>0</td>\n",
       "      <td>0</td>\n",
       "      <td>0</td>\n",
       "      <td>34</td>\n",
       "      <td>1</td>\n",
       "      <td>0</td>\n",
       "      <td>1</td>\n",
       "      <td>0</td>\n",
       "      <td>1</td>\n",
       "      <td>...</td>\n",
       "      <td>1889.50</td>\n",
       "      <td>0</td>\n",
       "      <td>55.573529</td>\n",
       "      <td>0</td>\n",
       "      <td>0</td>\n",
       "      <td>1</td>\n",
       "      <td>0</td>\n",
       "      <td>0</td>\n",
       "      <td>0</td>\n",
       "      <td>1</td>\n",
       "    </tr>\n",
       "    <tr>\n",
       "      <th>2</th>\n",
       "      <td>0</td>\n",
       "      <td>0</td>\n",
       "      <td>0</td>\n",
       "      <td>0</td>\n",
       "      <td>2</td>\n",
       "      <td>1</td>\n",
       "      <td>0</td>\n",
       "      <td>1</td>\n",
       "      <td>1</td>\n",
       "      <td>0</td>\n",
       "      <td>...</td>\n",
       "      <td>108.15</td>\n",
       "      <td>1</td>\n",
       "      <td>54.075000</td>\n",
       "      <td>0</td>\n",
       "      <td>0</td>\n",
       "      <td>0</td>\n",
       "      <td>0</td>\n",
       "      <td>0</td>\n",
       "      <td>0</td>\n",
       "      <td>1</td>\n",
       "    </tr>\n",
       "    <tr>\n",
       "      <th>3</th>\n",
       "      <td>0</td>\n",
       "      <td>0</td>\n",
       "      <td>0</td>\n",
       "      <td>0</td>\n",
       "      <td>45</td>\n",
       "      <td>0</td>\n",
       "      <td>0</td>\n",
       "      <td>1</td>\n",
       "      <td>0</td>\n",
       "      <td>1</td>\n",
       "      <td>...</td>\n",
       "      <td>1840.75</td>\n",
       "      <td>0</td>\n",
       "      <td>40.905556</td>\n",
       "      <td>0</td>\n",
       "      <td>0</td>\n",
       "      <td>1</td>\n",
       "      <td>0</td>\n",
       "      <td>0</td>\n",
       "      <td>0</td>\n",
       "      <td>0</td>\n",
       "    </tr>\n",
       "    <tr>\n",
       "      <th>4</th>\n",
       "      <td>1</td>\n",
       "      <td>0</td>\n",
       "      <td>0</td>\n",
       "      <td>0</td>\n",
       "      <td>2</td>\n",
       "      <td>1</td>\n",
       "      <td>0</td>\n",
       "      <td>0</td>\n",
       "      <td>0</td>\n",
       "      <td>0</td>\n",
       "      <td>...</td>\n",
       "      <td>151.65</td>\n",
       "      <td>1</td>\n",
       "      <td>75.825000</td>\n",
       "      <td>1</td>\n",
       "      <td>0</td>\n",
       "      <td>0</td>\n",
       "      <td>0</td>\n",
       "      <td>0</td>\n",
       "      <td>1</td>\n",
       "      <td>0</td>\n",
       "    </tr>\n",
       "  </tbody>\n",
       "</table>\n",
       "<p>5 rows × 25 columns</p>\n",
       "</div>"
      ],
      "text/plain": [
       "   gender  senior  partner  dependents  tenure  phone_service  multiple_lines  \\\n",
       "0       1       0        1           0       1              0               0   \n",
       "1       0       0        0           0      34              1               0   \n",
       "2       0       0        0           0       2              1               0   \n",
       "3       0       0        0           0      45              0               0   \n",
       "4       1       0        0           0       2              1               0   \n",
       "\n",
       "   online_security  online_backup  device_protection  ...  total_charges  \\\n",
       "0                0              1                  0  ...          29.85   \n",
       "1                1              0                  1  ...        1889.50   \n",
       "2                1              1                  0  ...         108.15   \n",
       "3                1              0                  1  ...        1840.75   \n",
       "4                0              0                  0  ...         151.65   \n",
       "\n",
       "   churn  avg_monthly_charges  internet_service-fiber_optic  \\\n",
       "0      0            29.850000                             0   \n",
       "1      0            55.573529                             0   \n",
       "2      1            54.075000                             0   \n",
       "3      0            40.905556                             0   \n",
       "4      1            75.825000                             1   \n",
       "\n",
       "   internet_service-no  contract-one_year  contract-two_year  \\\n",
       "0                    0                  0                  0   \n",
       "1                    0                  1                  0   \n",
       "2                    0                  0                  0   \n",
       "3                    0                  1                  0   \n",
       "4                    0                  0                  0   \n",
       "\n",
       "   payment_method-credit_card_auto  payment_method-electronic_check  \\\n",
       "0                                0                                1   \n",
       "1                                0                                0   \n",
       "2                                0                                0   \n",
       "3                                0                                0   \n",
       "4                                0                                1   \n",
       "\n",
       "   payment_method-mailed_check  \n",
       "0                            0  \n",
       "1                            1  \n",
       "2                            1  \n",
       "3                            0  \n",
       "4                            0  \n",
       "\n",
       "[5 rows x 25 columns]"
      ]
     },
     "execution_count": 31,
     "metadata": {},
     "output_type": "execute_result"
    }
   ],
   "source": [
    "df=pd.read_csv('telco_chrun_encoded (1).csv')\n",
    "df.head()"
   ]
  },
  {
   "cell_type": "code",
   "execution_count": 32,
   "metadata": {},
   "outputs": [
    {
     "data": {
      "text/plain": [
       "(7032, 25)"
      ]
     },
     "execution_count": 32,
     "metadata": {},
     "output_type": "execute_result"
    }
   ],
   "source": [
    "df.shape"
   ]
  },
  {
   "cell_type": "code",
   "execution_count": 33,
   "metadata": {},
   "outputs": [
    {
     "name": "stdout",
     "output_type": "stream",
     "text": [
      "<class 'pandas.core.frame.DataFrame'>\n",
      "RangeIndex: 7032 entries, 0 to 7031\n",
      "Data columns (total 25 columns):\n",
      " #   Column                           Non-Null Count  Dtype  \n",
      "---  ------                           --------------  -----  \n",
      " 0   gender                           7032 non-null   int64  \n",
      " 1   senior                           7032 non-null   int64  \n",
      " 2   partner                          7032 non-null   int64  \n",
      " 3   dependents                       7032 non-null   int64  \n",
      " 4   tenure                           7032 non-null   int64  \n",
      " 5   phone_service                    7032 non-null   int64  \n",
      " 6   multiple_lines                   7032 non-null   int64  \n",
      " 7   online_security                  7032 non-null   int64  \n",
      " 8   online_backup                    7032 non-null   int64  \n",
      " 9   device_protection                7032 non-null   int64  \n",
      " 10  tech_support                     7032 non-null   int64  \n",
      " 11  streaming_tv                     7032 non-null   int64  \n",
      " 12  streaming_movies                 7032 non-null   int64  \n",
      " 13  paperless_billing                7032 non-null   int64  \n",
      " 14  monthly_charges                  7032 non-null   float64\n",
      " 15  total_charges                    7032 non-null   float64\n",
      " 16  churn                            7032 non-null   int64  \n",
      " 17  avg_monthly_charges              7032 non-null   float64\n",
      " 18  internet_service-fiber_optic     7032 non-null   int64  \n",
      " 19  internet_service-no              7032 non-null   int64  \n",
      " 20  contract-one_year                7032 non-null   int64  \n",
      " 21  contract-two_year                7032 non-null   int64  \n",
      " 22  payment_method-credit_card_auto  7032 non-null   int64  \n",
      " 23  payment_method-electronic_check  7032 non-null   int64  \n",
      " 24  payment_method-mailed_check      7032 non-null   int64  \n",
      "dtypes: float64(3), int64(22)\n",
      "memory usage: 1.3 MB\n"
     ]
    }
   ],
   "source": [
    "df.info()"
   ]
  },
  {
   "cell_type": "code",
   "execution_count": 6,
   "metadata": {},
   "outputs": [],
   "source": [
    "df=df.sample(frac=0.25, random_state=3)"
   ]
  },
  {
   "cell_type": "code",
   "execution_count": 7,
   "metadata": {},
   "outputs": [],
   "source": [
    "y=df['churn']\n",
    "x=df.drop('churn', axis=1)"
   ]
  },
  {
   "cell_type": "code",
   "execution_count": 8,
   "metadata": {
    "scrolled": true
   },
   "outputs": [
    {
     "data": {
      "text/plain": [
       "0    1318\n",
       "1     440\n",
       "Name: churn, dtype: int64"
      ]
     },
     "execution_count": 8,
     "metadata": {},
     "output_type": "execute_result"
    }
   ],
   "source": [
    "df['churn'].value_counts()"
   ]
  },
  {
   "cell_type": "code",
   "execution_count": 9,
   "metadata": {},
   "outputs": [
    {
     "data": {
      "text/plain": [
       "<matplotlib.axes._subplots.AxesSubplot at 0x29d66b51c18>"
      ]
     },
     "execution_count": 9,
     "metadata": {},
     "output_type": "execute_result"
    },
    {
     "data": {
      "image/png": "[encoded data removed]",
      "text/plain": [
       "<Figure size 432x288 with 1 Axes>"
      ]
     },
     "metadata": {
      "needs_background": "light"
     },
     "output_type": "display_data"
    }
   ],
   "source": [
    "df['churn'].value_counts(normalize=True).plot.bar()"
   ]
  },
  {
   "cell_type": "markdown",
   "metadata": {},
   "source": [
    "#Building the predictive algorith using Random forest"
   ]
  },
  {
   "cell_type": "code",
   "execution_count": 10,
   "metadata": {},
   "outputs": [],
   "source": [
    "from sklearn.model_selection import train_test_split\n",
    "\n",
    "x_train, x_test, y_train, y_test =train_test_split(x, y, test_size=0.30, random_state=3)"
   ]
  },
  {
   "cell_type": "code",
   "execution_count": 11,
   "metadata": {},
   "outputs": [],
   "source": [
    "from sklearn.preprocessing import StandardScaler\n",
    "\n",
    "ss= StandardScaler()\n",
    "xs=ss.fit_transform(x)\n",
    "\n",
    "x_trains =ss.fit_transform(x_train)\n",
    "x_tests =ss.transform(x_test)"
   ]
  },
  {
   "cell_type": "code",
   "execution_count": 12,
   "metadata": {},
   "outputs": [
    {
     "name": "stdout",
     "output_type": "stream",
     "text": [
      "Confusion Matrix - Train:  \n",
      " [[912   0]\n",
      " [  0 318]]\n",
      "Overall Accuracy - Train:  1.0\n",
      "AUC- Train: 1.0\n",
      "Confusion Matrix - Test:  \n",
      " [[364  42]\n",
      " [ 70  52]]\n",
      "Overall Accuracy - Test:  0.7878787878787878\n",
      "AUC- Test: 0.8298372769118953\n"
     ]
    },
    {
     "data": {
      "text/plain": [
       "Text(0, 0.5, 'TPR')"
      ]
     },
     "execution_count": 12,
     "metadata": {},
     "output_type": "execute_result"
    },
    {
     "data": {
      "image/png": "[encoded data removed]",
      "text/plain": [
       "<Figure size 432x288 with 1 Axes>"
      ]
     },
     "metadata": {
      "needs_background": "light"
     },
     "output_type": "display_data"
    }
   ],
   "source": [
    "from sklearn.ensemble import RandomForestClassifier\n",
    "from sklearn.metrics import confusion_matrix, roc_auc_score, accuracy_score, roc_curve\n",
    "\n",
    "rfc=RandomForestClassifier(n_estimators=100)\n",
    "\n",
    "rfc.fit(x_trains, y_train)\n",
    "\n",
    "y_train_pred=rfc.predict(x_trains)\n",
    "\n",
    "y_train_prob=rfc.predict_proba(x_trains)[:,1]\n",
    "\n",
    "print('Confusion Matrix - Train: ', '\\n' ,confusion_matrix(y_train, y_train_pred))\n",
    "\n",
    "print('Overall Accuracy - Train: ', accuracy_score(y_train, y_train_pred))\n",
    "\n",
    "print('AUC- Train:' , roc_auc_score(y_train, y_train_prob))\n",
    "\n",
    "\n",
    "\n",
    "y_test_pred= rfc.predict(x_tests)\n",
    "\n",
    "y_test_prob=rfc.predict_proba(x_tests)[:,1]\n",
    "\n",
    "print('Confusion Matrix - Test: ', '\\n' ,confusion_matrix(y_test, y_test_pred))\n",
    "\n",
    "print('Overall Accuracy - Test: ', accuracy_score(y_test, y_test_pred))\n",
    "\n",
    "print('AUC- Test:' , roc_auc_score(y_test, y_test_prob))\n",
    "\n",
    "fpr, tpr, thresholds =roc_curve(y_test, y_test_prob)\n",
    "plt.plot(fpr, tpr)\n",
    "plt.plot(fpr, fpr, 'red')\n",
    "plt.xlabel('FPR')\n",
    "plt.ylabel('TPR')"
   ]
  },
  {
   "cell_type": "markdown",
   "metadata": {},
   "source": [
    "#Hyper parameter tuning for Random forest"
   ]
  },
  {
   "cell_type": "code",
   "execution_count": 13,
   "metadata": {},
   "outputs": [
    {
     "data": {
      "text/plain": [
       "RandomizedSearchCV(cv=3, error_score=nan,\n",
       "                   estimator=RandomForestClassifier(bootstrap=True,\n",
       "                                                    ccp_alpha=0.0,\n",
       "                                                    class_weight=None,\n",
       "                                                    criterion='gini',\n",
       "                                                    max_depth=None,\n",
       "                                                    max_features='auto',\n",
       "                                                    max_leaf_nodes=None,\n",
       "                                                    max_samples=None,\n",
       "                                                    min_impurity_decrease=0.0,\n",
       "                                                    min_impurity_split=None,\n",
       "                                                    min_samples_leaf=1,\n",
       "                                                    min_samples_split=2,\n",
       "                                                    min_weight_fraction_leaf=0.0,\n",
       "                                                    n_estimators=100,\n",
       "                                                    n_jobs...\n",
       "                                        'min_samples_leaf': <scipy.stats._distn_infrastructure.rv_frozen object at 0x0000029D674FFDD8>,\n",
       "                                        'min_samples_split': <scipy.stats._distn_infrastructure.rv_frozen object at 0x0000029D674FFA90>,\n",
       "                                        'n_estimators': <scipy.stats._distn_infrastructure.rv_frozen object at 0x0000029D674FF5C0>},\n",
       "                   pre_dispatch='2*n_jobs', random_state=3, refit=True,\n",
       "                   return_train_score=True, scoring='roc_auc', verbose=0)"
      ]
     },
     "execution_count": 13,
     "metadata": {},
     "output_type": "execute_result"
    }
   ],
   "source": [
    "from sklearn.model_selection import RandomizedSearchCV\n",
    "\n",
    "from scipy.stats import randint as sp_randint\n",
    "\n",
    "rfc=RandomForestClassifier(random_state=3)\n",
    "\n",
    "params={'n_estimators': sp_randint(50, 200),\n",
    "       'max_features': sp_randint(1, 24),\n",
    "       'max_depth': sp_randint(2,10),\n",
    "       'min_samples_split': sp_randint(2, 20),\n",
    "       'min_samples_leaf': sp_randint(1, 20),\n",
    "       'criterion': ['gini', 'entropy'] }\n",
    "\n",
    "\n",
    "rsearch_rfc = RandomizedSearchCV(rfc, param_distributions= params, n_iter=50, cv=3, scoring='roc_auc', \n",
    "                   random_state=3, return_train_score=True)\n",
    "\n",
    "rsearch_rfc.fit(xs, y)"
   ]
  },
  {
   "cell_type": "code",
   "execution_count": 14,
   "metadata": {},
   "outputs": [
    {
     "data": {
      "text/plain": [
       "{'criterion': 'entropy',\n",
       " 'max_depth': 8,\n",
       " 'max_features': 2,\n",
       " 'min_samples_leaf': 16,\n",
       " 'min_samples_split': 5,\n",
       " 'n_estimators': 120}"
      ]
     },
     "execution_count": 14,
     "metadata": {},
     "output_type": "execute_result"
    }
   ],
   "source": [
    "rsearch_rfc.best_params_"
   ]
  },
  {
   "cell_type": "code",
   "execution_count": 15,
   "metadata": {},
   "outputs": [
    {
     "data": {
      "text/html": [
       "<div>\n",
       "<style scoped>\n",
       "    .dataframe tbody tr th:only-of-type {\n",
       "        vertical-align: middle;\n",
       "    }\n",
       "\n",
       "    .dataframe tbody tr th {\n",
       "        vertical-align: top;\n",
       "    }\n",
       "\n",
       "    .dataframe thead th {\n",
       "        text-align: right;\n",
       "    }\n",
       "</style>\n",
       "<table border=\"1\" class=\"dataframe\">\n",
       "  <thead>\n",
       "    <tr style=\"text-align: right;\">\n",
       "      <th></th>\n",
       "      <th>mean_fit_time</th>\n",
       "      <th>std_fit_time</th>\n",
       "      <th>mean_score_time</th>\n",
       "      <th>std_score_time</th>\n",
       "      <th>param_criterion</th>\n",
       "      <th>param_max_depth</th>\n",
       "      <th>param_max_features</th>\n",
       "      <th>param_min_samples_leaf</th>\n",
       "      <th>param_min_samples_split</th>\n",
       "      <th>param_n_estimators</th>\n",
       "      <th>...</th>\n",
       "      <th>split1_test_score</th>\n",
       "      <th>split2_test_score</th>\n",
       "      <th>mean_test_score</th>\n",
       "      <th>std_test_score</th>\n",
       "      <th>rank_test_score</th>\n",
       "      <th>split0_train_score</th>\n",
       "      <th>split1_train_score</th>\n",
       "      <th>split2_train_score</th>\n",
       "      <th>mean_train_score</th>\n",
       "      <th>std_train_score</th>\n",
       "    </tr>\n",
       "  </thead>\n",
       "  <tbody>\n",
       "    <tr>\n",
       "      <th>0</th>\n",
       "      <td>0.175137</td>\n",
       "      <td>0.023511</td>\n",
       "      <td>0.012330</td>\n",
       "      <td>0.001515</td>\n",
       "      <td>gini</td>\n",
       "      <td>2</td>\n",
       "      <td>4</td>\n",
       "      <td>9</td>\n",
       "      <td>2</td>\n",
       "      <td>71</td>\n",
       "      <td>...</td>\n",
       "      <td>0.830451</td>\n",
       "      <td>0.848930</td>\n",
       "      <td>0.841708</td>\n",
       "      <td>0.008065</td>\n",
       "      <td>10</td>\n",
       "      <td>0.852283</td>\n",
       "      <td>0.860699</td>\n",
       "      <td>0.848861</td>\n",
       "      <td>0.853948</td>\n",
       "      <td>0.004974</td>\n",
       "    </tr>\n",
       "    <tr>\n",
       "      <th>1</th>\n",
       "      <td>0.815924</td>\n",
       "      <td>0.052228</td>\n",
       "      <td>0.046503</td>\n",
       "      <td>0.007779</td>\n",
       "      <td>entropy</td>\n",
       "      <td>5</td>\n",
       "      <td>11</td>\n",
       "      <td>12</td>\n",
       "      <td>11</td>\n",
       "      <td>188</td>\n",
       "      <td>...</td>\n",
       "      <td>0.820061</td>\n",
       "      <td>0.855198</td>\n",
       "      <td>0.841571</td>\n",
       "      <td>0.015390</td>\n",
       "      <td>11</td>\n",
       "      <td>0.888735</td>\n",
       "      <td>0.896357</td>\n",
       "      <td>0.883738</td>\n",
       "      <td>0.889610</td>\n",
       "      <td>0.005189</td>\n",
       "    </tr>\n",
       "  </tbody>\n",
       "</table>\n",
       "<p>2 rows × 22 columns</p>\n",
       "</div>"
      ],
      "text/plain": [
       "   mean_fit_time  std_fit_time  mean_score_time  std_score_time  \\\n",
       "0       0.175137      0.023511         0.012330        0.001515   \n",
       "1       0.815924      0.052228         0.046503        0.007779   \n",
       "\n",
       "  param_criterion param_max_depth param_max_features param_min_samples_leaf  \\\n",
       "0            gini               2                  4                      9   \n",
       "1         entropy               5                 11                     12   \n",
       "\n",
       "  param_min_samples_split param_n_estimators  ... split1_test_score  \\\n",
       "0                       2                 71  ...          0.830451   \n",
       "1                      11                188  ...          0.820061   \n",
       "\n",
       "   split2_test_score  mean_test_score  std_test_score  rank_test_score  \\\n",
       "0           0.848930         0.841708        0.008065               10   \n",
       "1           0.855198         0.841571        0.015390               11   \n",
       "\n",
       "   split0_train_score  split1_train_score  split2_train_score  \\\n",
       "0            0.852283            0.860699            0.848861   \n",
       "1            0.888735            0.896357            0.883738   \n",
       "\n",
       "   mean_train_score  std_train_score  \n",
       "0          0.853948         0.004974  \n",
       "1          0.889610         0.005189  \n",
       "\n",
       "[2 rows x 22 columns]"
      ]
     },
     "execution_count": 15,
     "metadata": {},
     "output_type": "execute_result"
    }
   ],
   "source": [
    "pd.DataFrame(rsearch_rfc.cv_results_).head(2)"
   ]
  },
  {
   "cell_type": "code",
   "execution_count": 16,
   "metadata": {},
   "outputs": [
    {
     "name": "stdout",
     "output_type": "stream",
     "text": [
      "Confusion Matrix - Train:  \n",
      " [[887  25]\n",
      " [193 125]]\n",
      "Overall Accuracy - Train:  0.8227642276422764\n",
      "AUC- Train: 0.8874510371841554\n",
      "Confusion Matrix - Test:  \n",
      " [[383  23]\n",
      " [ 86  36]]\n",
      "Overall Accuracy - Test:  0.7935606060606061\n",
      "AUC- Test: 0.8407494145199063\n"
     ]
    },
    {
     "data": {
      "text/plain": [
       "Text(0, 0.5, 'TPR')"
      ]
     },
     "execution_count": 16,
     "metadata": {},
     "output_type": "execute_result"
    },
    {
     "data": {
      "image/png": "[encoded data removed]",
      "text/plain": [
       "<Figure size 432x288 with 1 Axes>"
      ]
     },
     "metadata": {
      "needs_background": "light"
     },
     "output_type": "display_data"
    }
   ],
   "source": [
    "# model using best params\n",
    "rfc=RandomForestClassifier(**rsearch_rfc.best_params_, random_state=3)\n",
    "\n",
    "rfc.fit(x_trains, y_train)\n",
    "\n",
    "y_train_pred=rfc.predict(x_trains)\n",
    "\n",
    "y_train_prob=rfc.predict_proba(x_trains)[:,1]\n",
    "\n",
    "print('Confusion Matrix - Train: ', '\\n' ,confusion_matrix(y_train, y_train_pred))\n",
    "\n",
    "print('Overall Accuracy - Train: ', accuracy_score(y_train, y_train_pred))\n",
    "\n",
    "print('AUC- Train:' , roc_auc_score(y_train, y_train_prob))\n",
    "\n",
    "\n",
    "\n",
    "y_test_pred= rfc.predict(x_tests)\n",
    "\n",
    "y_test_prob=rfc.predict_proba(x_tests)[:,1]\n",
    "\n",
    "print('Confusion Matrix - Test: ', '\\n' ,confusion_matrix(y_test, y_test_pred))\n",
    "\n",
    "print('Overall Accuracy - Test: ', accuracy_score(y_test, y_test_pred))\n",
    "\n",
    "print('AUC- Test:' , roc_auc_score(y_test, y_test_prob))\n",
    "\n",
    "fpr, tpr, thresholds =roc_curve(y_test, y_test_prob)\n",
    "plt.plot(fpr, tpr)\n",
    "plt.plot(fpr, fpr, 'red')\n",
    "plt.xlabel('FPR')\n",
    "plt.ylabel('TPR')"
   ]
  },
  {
   "cell_type": "code",
   "execution_count": 17,
   "metadata": {},
   "outputs": [
    {
     "data": {
      "text/html": [
       "<div>\n",
       "<style scoped>\n",
       "    .dataframe tbody tr th:only-of-type {\n",
       "        vertical-align: middle;\n",
       "    }\n",
       "\n",
       "    .dataframe tbody tr th {\n",
       "        vertical-align: top;\n",
       "    }\n",
       "\n",
       "    .dataframe thead th {\n",
       "        text-align: right;\n",
       "    }\n",
       "</style>\n",
       "<table border=\"1\" class=\"dataframe\">\n",
       "  <thead>\n",
       "    <tr style=\"text-align: right;\">\n",
       "      <th></th>\n",
       "      <th>imp</th>\n",
       "    </tr>\n",
       "  </thead>\n",
       "  <tbody>\n",
       "    <tr>\n",
       "      <th>tenure</th>\n",
       "      <td>0.155242</td>\n",
       "    </tr>\n",
       "    <tr>\n",
       "      <th>total_charges</th>\n",
       "      <td>0.119885</td>\n",
       "    </tr>\n",
       "    <tr>\n",
       "      <th>contract-two_year</th>\n",
       "      <td>0.092182</td>\n",
       "    </tr>\n",
       "    <tr>\n",
       "      <th>monthly_charges</th>\n",
       "      <td>0.085751</td>\n",
       "    </tr>\n",
       "    <tr>\n",
       "      <th>avg_monthly_charges</th>\n",
       "      <td>0.083130</td>\n",
       "    </tr>\n",
       "    <tr>\n",
       "      <th>internet_service-fiber_optic</th>\n",
       "      <td>0.077960</td>\n",
       "    </tr>\n",
       "    <tr>\n",
       "      <th>payment_method-electronic_check</th>\n",
       "      <td>0.076173</td>\n",
       "    </tr>\n",
       "    <tr>\n",
       "      <th>online_security</th>\n",
       "      <td>0.040575</td>\n",
       "    </tr>\n",
       "    <tr>\n",
       "      <th>internet_service-no</th>\n",
       "      <td>0.040186</td>\n",
       "    </tr>\n",
       "    <tr>\n",
       "      <th>contract-one_year</th>\n",
       "      <td>0.035663</td>\n",
       "    </tr>\n",
       "    <tr>\n",
       "      <th>dependents</th>\n",
       "      <td>0.031578</td>\n",
       "    </tr>\n",
       "    <tr>\n",
       "      <th>paperless_billing</th>\n",
       "      <td>0.023652</td>\n",
       "    </tr>\n",
       "    <tr>\n",
       "      <th>online_backup</th>\n",
       "      <td>0.023328</td>\n",
       "    </tr>\n",
       "    <tr>\n",
       "      <th>payment_method-credit_card_auto</th>\n",
       "      <td>0.019833</td>\n",
       "    </tr>\n",
       "    <tr>\n",
       "      <th>tech_support</th>\n",
       "      <td>0.019323</td>\n",
       "    </tr>\n",
       "    <tr>\n",
       "      <th>partner</th>\n",
       "      <td>0.014272</td>\n",
       "    </tr>\n",
       "    <tr>\n",
       "      <th>streaming_movies</th>\n",
       "      <td>0.010863</td>\n",
       "    </tr>\n",
       "    <tr>\n",
       "      <th>gender</th>\n",
       "      <td>0.008537</td>\n",
       "    </tr>\n",
       "    <tr>\n",
       "      <th>device_protection</th>\n",
       "      <td>0.008298</td>\n",
       "    </tr>\n",
       "    <tr>\n",
       "      <th>streaming_tv</th>\n",
       "      <td>0.008101</td>\n",
       "    </tr>\n",
       "    <tr>\n",
       "      <th>senior</th>\n",
       "      <td>0.007751</td>\n",
       "    </tr>\n",
       "    <tr>\n",
       "      <th>multiple_lines</th>\n",
       "      <td>0.007676</td>\n",
       "    </tr>\n",
       "    <tr>\n",
       "      <th>payment_method-mailed_check</th>\n",
       "      <td>0.007300</td>\n",
       "    </tr>\n",
       "    <tr>\n",
       "      <th>phone_service</th>\n",
       "      <td>0.002743</td>\n",
       "    </tr>\n",
       "  </tbody>\n",
       "</table>\n",
       "</div>"
      ],
      "text/plain": [
       "                                      imp\n",
       "tenure                           0.155242\n",
       "total_charges                    0.119885\n",
       "contract-two_year                0.092182\n",
       "monthly_charges                  0.085751\n",
       "avg_monthly_charges              0.083130\n",
       "internet_service-fiber_optic     0.077960\n",
       "payment_method-electronic_check  0.076173\n",
       "online_security                  0.040575\n",
       "internet_service-no              0.040186\n",
       "contract-one_year                0.035663\n",
       "dependents                       0.031578\n",
       "paperless_billing                0.023652\n",
       "online_backup                    0.023328\n",
       "payment_method-credit_card_auto  0.019833\n",
       "tech_support                     0.019323\n",
       "partner                          0.014272\n",
       "streaming_movies                 0.010863\n",
       "gender                           0.008537\n",
       "device_protection                0.008298\n",
       "streaming_tv                     0.008101\n",
       "senior                           0.007751\n",
       "multiple_lines                   0.007676\n",
       "payment_method-mailed_check      0.007300\n",
       "phone_service                    0.002743"
      ]
     },
     "execution_count": 17,
     "metadata": {},
     "output_type": "execute_result"
    }
   ],
   "source": [
    "imp = pd.DataFrame(rfc.feature_importances_, index = x.columns, columns=['imp'])\n",
    "\n",
    "imp = imp.sort_values(by = 'imp', ascending = False)\n",
    "\n",
    "imp\n",
    "\n",
    "# the results says the percentage of dropping based on the features, we can use this as feature selection if we remove\n",
    "#the features which are having the value of 0 we can simply remove those this says that the features are not having any\n",
    "#impact on data"
   ]
  },
  {
   "cell_type": "code",
   "execution_count": 18,
   "metadata": {},
   "outputs": [
    {
     "data": {
      "text/plain": [
       "RandomizedSearchCV(cv=3, error_score=nan,\n",
       "                   estimator=KNeighborsClassifier(algorithm='auto',\n",
       "                                                  leaf_size=30,\n",
       "                                                  metric='minkowski',\n",
       "                                                  metric_params=None,\n",
       "                                                  n_jobs=None, n_neighbors=5,\n",
       "                                                  p=2, weights='uniform'),\n",
       "                   iid='deprecated', n_iter=50, n_jobs=None,\n",
       "                   param_distributions={'n_neighbors': <scipy.stats._distn_infrastructure.rv_frozen object at 0x0000029D685FE1D0>,\n",
       "                                        'p': <scipy.stats._distn_infrastructure.rv_frozen object at 0x0000029D685FE198>},\n",
       "                   pre_dispatch='2*n_jobs', random_state=3, refit=True,\n",
       "                   return_train_score=False, scoring=None, verbose=0)"
      ]
     },
     "execution_count": 18,
     "metadata": {},
     "output_type": "execute_result"
    }
   ],
   "source": [
    "from sklearn.neighbors import KNeighborsClassifier\n",
    "\n",
    "from sklearn.model_selection import RandomizedSearchCV\n",
    "\n",
    "from scipy.stats import randint as sp_randint\n",
    "\n",
    "knn = KNeighborsClassifier()\n",
    "\n",
    "params= {'n_neighbors': sp_randint(1,20),\n",
    "        'p': sp_randint(1,5)}\n",
    "\n",
    "rsearch_knn=RandomizedSearchCV(knn, param_distributions = params, cv=3, random_state=3, n_iter=50)\n",
    "\n",
    "rsearch_knn.fit(xs, y)"
   ]
  },
  {
   "cell_type": "code",
   "execution_count": 19,
   "metadata": {},
   "outputs": [
    {
     "data": {
      "text/plain": [
       "{'n_neighbors': 15, 'p': 1}"
      ]
     },
     "execution_count": 19,
     "metadata": {},
     "output_type": "execute_result"
    }
   ],
   "source": [
    "rsearch_knn.best_params_"
   ]
  },
  {
   "cell_type": "code",
   "execution_count": 20,
   "metadata": {},
   "outputs": [
    {
     "name": "stdout",
     "output_type": "stream",
     "text": [
      "Confusion Matrix - Train:  \n",
      " [[804 108]\n",
      " [113 205]]\n",
      "Overall Accuracy - Train:  0.8203252032520325\n",
      "Classification Report - Test               precision    recall  f1-score   support\n",
      "\n",
      "           0       0.82      0.94      0.88       406\n",
      "           1       0.61      0.30      0.40       122\n",
      "\n",
      "    accuracy                           0.79       528\n",
      "   macro avg       0.71      0.62      0.64       528\n",
      "weighted avg       0.77      0.79      0.77       528\n",
      "\n",
      "AUC- Train: 0.8661487642061128\n",
      "Confusion Matrix - Test:  \n",
      " [[348  58]\n",
      " [ 53  69]]\n",
      "Overall Accuracy - Test:  0.7897727272727273\n",
      "AUC- Test: 0.8143018654607121\n"
     ]
    },
    {
     "data": {
      "text/plain": [
       "Text(0, 0.5, 'TPR')"
      ]
     },
     "execution_count": 20,
     "metadata": {},
     "output_type": "execute_result"
    },
    {
     "data": {
      "image/png": "[encoded data removed]",
      "text/plain": [
       "<Figure size 432x288 with 1 Axes>"
      ]
     },
     "metadata": {
      "needs_background": "light"
     },
     "output_type": "display_data"
    }
   ],
   "source": [
    "knn = KNeighborsClassifier(** rsearch_knn.best_params_)\n",
    "from sklearn.metrics import confusion_matrix, roc_auc_score, accuracy_score, roc_curve, classification_report\n",
    "\n",
    "knn.fit(x_trains, y_train)\n",
    "\n",
    "y_train_pred=knn.predict(x_trains)\n",
    "\n",
    "y_train_prob=knn.predict_proba(x_trains)[:,1]\n",
    "\n",
    "print('Confusion Matrix - Train: ', '\\n' ,confusion_matrix(y_train, y_train_pred))\n",
    "\n",
    "print('Overall Accuracy - Train: ', accuracy_score(y_train, y_train_pred))\n",
    "\n",
    "print('Classification Report - Test', classification_report(y_test, y_test_pred))\n",
    "\n",
    "print('AUC- Train:' , roc_auc_score(y_train, y_train_prob))\n",
    "\n",
    "\n",
    "\n",
    "y_test_pred= knn.predict(x_tests)\n",
    "\n",
    "y_test_prob=knn.predict_proba(x_tests)[:,1]\n",
    "\n",
    "print('Confusion Matrix - Test: ', '\\n' ,confusion_matrix(y_test, y_test_pred))\n",
    "\n",
    "print('Overall Accuracy - Test: ', accuracy_score(y_test, y_test_pred))\n",
    "\n",
    "print('AUC- Test:' , roc_auc_score(y_test, y_test_prob))\n",
    "\n",
    "fpr, tpr, thresholds =roc_curve(y_test, y_test_prob)\n",
    "plt.plot(fpr, tpr)\n",
    "plt.plot(fpr, fpr, 'red')\n",
    "plt.xlabel('FPR')\n",
    "plt.ylabel('TPR')"
   ]
  },
  {
   "cell_type": "markdown",
   "metadata": {},
   "source": [
    "# stacking results of 3 learners (random forest, knn, logistic regression)"
   ]
  },
  {
   "cell_type": "code",
   "execution_count": 21,
   "metadata": {},
   "outputs": [
    {
     "name": "stdout",
     "output_type": "stream",
     "text": [
      "Confusion Matrix - Train:  \n",
      " [[826  86]\n",
      " [146 172]]\n",
      "Overall Accuracy - Train:  0.8113821138211382\n",
      "Classification Report - Test               precision    recall  f1-score   support\n",
      "\n",
      "           0       0.87      0.86      0.86       406\n",
      "           1       0.54      0.57      0.55       122\n",
      "\n",
      "    accuracy                           0.79       528\n",
      "   macro avg       0.71      0.71      0.71       528\n",
      "weighted avg       0.79      0.79      0.79       528\n",
      "\n",
      "AUC- Train: 0.8558320920225091\n",
      "Confusion Matrix - Test:  \n",
      " [[359  47]\n",
      " [ 57  65]]\n",
      "Overall Accuracy - Test:  0.803030303030303\n",
      "AUC- Test: 0.843111523863361\n"
     ]
    },
    {
     "data": {
      "text/plain": [
       "Text(0, 0.5, 'TPR')"
      ]
     },
     "execution_count": 21,
     "metadata": {},
     "output_type": "execute_result"
    },
    {
     "data": {
      "image/png": "[encoded data removed]",
      "text/plain": [
       "<Figure size 432x288 with 1 Axes>"
      ]
     },
     "metadata": {
      "needs_background": "light"
     },
     "output_type": "display_data"
    }
   ],
   "source": [
    "from sklearn.linear_model import LogisticRegression\n",
    "lr= LogisticRegression(solver= 'liblinear')\n",
    "\n",
    "\n",
    "lr.fit(x_trains, y_train)\n",
    "\n",
    "y_train_pred=lr.predict(x_trains)\n",
    "\n",
    "y_train_prob=lr.predict_proba(x_trains)[:,1]\n",
    "\n",
    "print('Confusion Matrix - Train: ', '\\n' ,confusion_matrix(y_train, y_train_pred))\n",
    "\n",
    "print('Overall Accuracy - Train: ', accuracy_score(y_train, y_train_pred))\n",
    "\n",
    "print('Classification Report - Test', classification_report(y_test, y_test_pred))\n",
    "\n",
    "print('AUC- Train:' , roc_auc_score(y_train, y_train_prob))\n",
    "\n",
    "\n",
    "\n",
    "y_test_pred= lr.predict(x_tests)\n",
    "\n",
    "y_test_prob=.predict_proba(x_tests)[:,1]\n",
    "\n",
    "print('Confusion Matrix - Test: ', '\\n' ,confusion_matrix(y_test, y_test_pred))\n",
    "\n",
    "print('Overall Accuracy - Test: ', accuracy_score(y_test, y_test_pred))\n",
    "\n",
    "print('AUC- Test:' , roc_auc_score(y_test, y_test_prob))\n",
    "\n",
    "fpr, tpr, thresholds =roc_curve(y_test, y_test_prob)\n",
    "plt.plot(fpr, tpr)\n",
    "plt.plot(fpr, fpr, 'red')\n",
    "plt.xlabel('FPR')\n",
    "plt.ylabel('TPR')"
   ]
  },
  {
   "cell_type": "code",
   "execution_count": 22,
   "metadata": {},
   "outputs": [],
   "source": [
    "from sklearn.ensemble import VotingClassifier\n",
    "\n",
    "lr = LogisticRegression(solver='liblinear')\n",
    "knn = KNeighborsClassifier(**rsearch_knn.best_params_)\n",
    "rfc = RandomForestClassifier(**rsearch_rfc.best_params_)"
   ]
  },
  {
   "cell_type": "markdown",
   "metadata": {},
   "source": [
    "# HARD VOTING"
   ]
  },
  {
   "cell_type": "code",
   "execution_count": 24,
   "metadata": {},
   "outputs": [
    {
     "name": "stdout",
     "output_type": "stream",
     "text": [
      "Accuracy score - Train 0.8195121951219512\n",
      "Accuracy score - Test 0.8011363636363636\n"
     ]
    }
   ],
   "source": [
    "clf = VotingClassifier(estimators=[('lr', lr), ('knn', knn), ('rfc', rfc)], voting='hard')\n",
    "\n",
    "clf.fit(x_trains, y_train)\n",
    "\n",
    "y_train_pred = clf.predict(x_trains)\n",
    "y_test_pred = clf.predict(x_tests)\n",
    "\n",
    "print('Accuracy score - Train', accuracy_score(y_train, y_train_pred))\n",
    "print('Accuracy score - Test', accuracy_score(y_test, y_test_pred))\n"
   ]
  },
  {
   "cell_type": "markdown",
   "metadata": {},
   "source": [
    "# SOFT VOTING - Equal weightages"
   ]
  },
  {
   "cell_type": "code",
   "execution_count": 25,
   "metadata": {},
   "outputs": [
    {
     "name": "stdout",
     "output_type": "stream",
     "text": [
      "Confusion Matrix - Train:  \n",
      " [[837  75]\n",
      " [147 171]]\n",
      "Overall Accuracy - Train:  0.8195121951219512\n",
      "Classification Report - Test               precision    recall  f1-score   support\n",
      "\n",
      "           0       0.85      0.90      0.87       406\n",
      "           1       0.59      0.47      0.52       122\n",
      "\n",
      "    accuracy                           0.80       528\n",
      "   macro avg       0.72      0.68      0.70       528\n",
      "weighted avg       0.79      0.80      0.79       528\n",
      "\n",
      "AUC- Train: 0.8763516495641621\n",
      "Confusion Matrix - Test:  \n",
      " [[365  41]\n",
      " [ 66  56]]\n",
      "Overall Accuracy - Test:  0.7973484848484849\n",
      "AUC- Test: 0.8382459823952193\n"
     ]
    },
    {
     "data": {
      "text/plain": [
       "Text(0, 0.5, 'TPR')"
      ]
     },
     "execution_count": 25,
     "metadata": {},
     "output_type": "execute_result"
    },
    {
     "data": {
      "image/png": "[encoded data removed]",
      "text/plain": [
       "<Figure size 432x288 with 1 Axes>"
      ]
     },
     "metadata": {
      "needs_background": "light"
     },
     "output_type": "display_data"
    }
   ],
   "source": [
    "clf = VotingClassifier(estimators=[('lr', lr), ('knn', knn), ('rfc', rfc)], voting='soft')\n",
    "\n",
    "clf.fit(x_trains, y_train)\n",
    "\n",
    "y_train_pred=clf.predict(x_trains)\n",
    "\n",
    "y_train_prob=clf.predict_proba(x_trains)[:,1]\n",
    "\n",
    "print('Confusion Matrix - Train: ', '\\n' ,confusion_matrix(y_train, y_train_pred))\n",
    "\n",
    "print('Overall Accuracy - Train: ', accuracy_score(y_train, y_train_pred))\n",
    "\n",
    "print('Classification Report - Test', classification_report(y_test, y_test_pred))\n",
    "\n",
    "print('AUC- Train:' , roc_auc_score(y_train, y_train_prob))\n",
    "\n",
    "\n",
    "\n",
    "y_test_pred= clf.predict(x_tests)\n",
    "\n",
    "y_test_prob=clf.predict_proba(x_tests)[:,1]\n",
    "\n",
    "print('Confusion Matrix - Test: ', '\\n' ,confusion_matrix(y_test, y_test_pred))\n",
    "\n",
    "print('Overall Accuracy - Test: ', accuracy_score(y_test, y_test_pred))\n",
    "\n",
    "print('AUC- Test:' , roc_auc_score(y_test, y_test_prob))\n",
    "\n",
    "fpr, tpr, thresholds =roc_curve(y_test, y_test_prob)\n",
    "plt.plot(fpr, tpr)\n",
    "plt.plot(fpr, fpr, 'red')\n",
    "plt.xlabel('FPR')\n",
    "plt.ylabel('TPR')"
   ]
  },
  {
   "cell_type": "code",
   "execution_count": 26,
   "metadata": {},
   "outputs": [
    {
     "name": "stdout",
     "output_type": "stream",
     "text": [
      "Confusion Matrix - Train:  \n",
      " [[849  63]\n",
      " [153 165]]\n",
      "Overall Accuracy - Train:  0.824390243902439\n",
      "Classification Report - Test               precision    recall  f1-score   support\n",
      "\n",
      "           0       0.85      0.90      0.87       406\n",
      "           1       0.58      0.46      0.51       122\n",
      "\n",
      "    accuracy                           0.80       528\n",
      "   macro avg       0.71      0.68      0.69       528\n",
      "weighted avg       0.78      0.80      0.79       528\n",
      "\n",
      "AUC- Train: 0.8806307238221339\n",
      "Confusion Matrix - Test:  \n",
      " [[365  41]\n",
      " [ 69  53]]\n",
      "Overall Accuracy - Test:  0.7916666666666666\n",
      "AUC- Test: 0.8369538883953807\n"
     ]
    },
    {
     "data": {
      "text/plain": [
       "Text(0, 0.5, 'TPR')"
      ]
     },
     "execution_count": 26,
     "metadata": {},
     "output_type": "execute_result"
    },
    {
     "data": {
      "image/png": "[encoded data removed]",
      "text/plain": [
       "<Figure size 432x288 with 1 Axes>"
      ]
     },
     "metadata": {
      "needs_background": "light"
     },
     "output_type": "display_data"
    }
   ],
   "source": [
    "clf = VotingClassifier(estimators=[('lr', lr), ('knn', knn), ('rfc', rfc)], weights=[1,2,3] ,voting='soft')\n",
    "\n",
    "clf.fit(x_trains, y_train)\n",
    "\n",
    "y_train_pred=clf.predict(x_trains)\n",
    "\n",
    "y_train_prob=clf.predict_proba(x_trains)[:,1]\n",
    "\n",
    "print('Confusion Matrix - Train: ', '\\n' ,confusion_matrix(y_train, y_train_pred))\n",
    "\n",
    "print('Overall Accuracy - Train: ', accuracy_score(y_train, y_train_pred))\n",
    "\n",
    "print('Classification Report - Test', classification_report(y_test, y_test_pred))\n",
    "\n",
    "print('AUC- Train:' , roc_auc_score(y_train, y_train_prob))\n",
    "\n",
    "\n",
    "\n",
    "y_test_pred= clf.predict(x_tests)\n",
    "\n",
    "y_test_prob=clf.predict_proba(x_tests)[:,1]\n",
    "\n",
    "print('Confusion Matrix - Test: ', '\\n' ,confusion_matrix(y_test, y_test_pred))\n",
    "\n",
    "print('Overall Accuracy - Test: ', accuracy_score(y_test, y_test_pred))\n",
    "\n",
    "print('AUC- Test:' , roc_auc_score(y_test, y_test_prob))\n",
    "\n",
    "fpr, tpr, thresholds =roc_curve(y_test, y_test_prob)\n",
    "plt.plot(fpr, tpr)\n",
    "plt.plot(fpr, fpr, 'red')\n",
    "plt.xlabel('FPR')\n",
    "plt.ylabel('TPR')"
   ]
  }
 ],
 "metadata": {
  "kernelspec": {
   "display_name": "Python 3",
   "language": "python",
   "name": "python3"
  },
  "language_info": {
   "codemirror_mode": {
    "name": "ipython",
    "version": 3
   },
   "file_extension": ".py",
   "mimetype": "text/x-python",
   "name": "python",
   "nbconvert_exporter": "python",
   "pygments_lexer": "ipython3",
   "version": "3.6.5"
  }
 },
 "nbformat": 4,
 "nbformat_minor": 2
}
